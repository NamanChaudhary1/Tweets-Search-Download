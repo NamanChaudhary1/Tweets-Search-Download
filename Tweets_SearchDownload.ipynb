{
  "nbformat": 4,
  "nbformat_minor": 0,
  "metadata": {
    "colab": {
      "provenance": [],
      "authorship_tag": "ABX9TyODaue8xofdqFgIIeYOqVbK",
      "include_colab_link": true
    },
    "kernelspec": {
      "name": "python3",
      "display_name": "Python 3"
    },
    "language_info": {
      "name": "python"
    }
  },
  "cells": [
    {
      "cell_type": "markdown",
      "metadata": {
        "id": "view-in-github",
        "colab_type": "text"
      },
      "source": [
        "<a href=\"https://colab.research.google.com/github/NamanChaudhary1/Tweets-Search-Download/blob/main/Tweets_SearchDownload.ipynb\" target=\"_parent\"><img src=\"https://colab.research.google.com/assets/colab-badge.svg\" alt=\"Open In Colab\"/></a>"
      ]
    },
    {
      "cell_type": "code",
      "source": [
        "!pip install tweepy"
      ],
      "metadata": {
        "colab": {
          "base_uri": "https://localhost:8080/"
        },
        "id": "AJpmauLr3D_S",
        "outputId": "2b6aa4b3-a154-47e5-9cba-ece401146a02"
      },
      "execution_count": 19,
      "outputs": [
        {
          "output_type": "stream",
          "name": "stdout",
          "text": [
            "Looking in indexes: https://pypi.org/simple, https://us-python.pkg.dev/colab-wheels/public/simple/\n",
            "Requirement already satisfied: tweepy in /usr/local/lib/python3.10/dist-packages (4.13.0)\n",
            "Requirement already satisfied: oauthlib<4,>=3.2.0 in /usr/local/lib/python3.10/dist-packages (from tweepy) (3.2.2)\n",
            "Requirement already satisfied: requests<3,>=2.27.0 in /usr/local/lib/python3.10/dist-packages (from tweepy) (2.27.1)\n",
            "Requirement already satisfied: requests-oauthlib<2,>=1.2.0 in /usr/local/lib/python3.10/dist-packages (from tweepy) (1.3.1)\n",
            "Requirement already satisfied: urllib3<1.27,>=1.21.1 in /usr/local/lib/python3.10/dist-packages (from requests<3,>=2.27.0->tweepy) (1.26.15)\n",
            "Requirement already satisfied: certifi>=2017.4.17 in /usr/local/lib/python3.10/dist-packages (from requests<3,>=2.27.0->tweepy) (2022.12.7)\n",
            "Requirement already satisfied: charset-normalizer~=2.0.0 in /usr/local/lib/python3.10/dist-packages (from requests<3,>=2.27.0->tweepy) (2.0.12)\n",
            "Requirement already satisfied: idna<4,>=2.5 in /usr/local/lib/python3.10/dist-packages (from requests<3,>=2.27.0->tweepy) (3.4)\n"
          ]
        }
      ]
    },
    {
      "cell_type": "code",
      "source": [
        "access_token = \"501682241-ZG1DshytyxUIUY8FXPoH2AXaDG9d5DQlORemfAzU\"\n",
        "access_token_secret = \"mxwCYkDjgWG5qWy8ONtVs3j2lxiYSxyberVVa92jmd27z\"\n",
        "consumer_key = \"we0Drpnvc1FZNazKkiKoFWlGf\"\n",
        "consumer_secret = \"OXRvmJwM6ca9k90XMIMoktSCa5XvjNieqJivcfjbOAlmpO6RhH\""
      ],
      "metadata": {
        "id": "SRlqO1ec4Mrs"
      },
      "execution_count": 18,
      "outputs": []
    },
    {
      "cell_type": "code",
      "source": [
        "import os\n",
        "import tweepy as tw\n",
        "import pandas as pd"
      ],
      "metadata": {
        "id": "h9fJrBCB4SR5"
      },
      "execution_count": 20,
      "outputs": []
    },
    {
      "cell_type": "code",
      "source": [
        "auth = tw.OAuthHandler(consumer_key, consumer_secret)\n",
        "auth.set_access_token(access_token, access_token_secret)\n",
        "api = tw.API(auth, wait_on_rate_limit=True)"
      ],
      "metadata": {
        "id": "qiCtYvaW4U1Y"
      },
      "execution_count": 21,
      "outputs": []
    },
    {
      "cell_type": "code",
      "source": [
        "search_words = \"#IPL\"\n",
        "date_since = \"2022-04-16\""
      ],
      "metadata": {
        "id": "jdBO5BJr4Zh7"
      },
      "execution_count": 22,
      "outputs": []
    },
    {
      "cell_type": "code",
      "source": [
        "tweets = api.search_tweets(q=search_words, lang=\"en\", since=date_since, tweet_mode=\"extended\", count=5)"
      ],
      "metadata": {
        "colab": {
          "base_uri": "https://localhost:8080/"
        },
        "id": "oozk-S7h4b2n",
        "outputId": "d11988f6-9f7e-457a-a918-e7901a0db438"
      },
      "execution_count": 24,
      "outputs": [
        {
          "output_type": "stream",
          "name": "stderr",
          "text": [
            "WARNING:tweepy.api:Unexpected parameter: since\n"
          ]
        }
      ]
    },
    {
      "cell_type": "code",
      "source": [
        "for tweet in tweets:\n",
        "    # Extract relevant information from each tweet\n",
        "    username = tweet.user.screen_name\n",
        "    text = tweet.full_text\n",
        "    created_at = tweet.created_at\n",
        "\n",
        "    # Do something with the tweet\n",
        "    print(f\"Username: {username}\")\n",
        "    print(f\"Text: {text}\")\n",
        "    print(f\"Created at: {created_at}\")\n",
        "    print()"
      ],
      "metadata": {
        "colab": {
          "base_uri": "https://localhost:8080/"
        },
        "id": "J9hb2Cfq4eV1",
        "outputId": "302f150f-e53b-4ff7-bc76-8904807e51be"
      },
      "execution_count": 25,
      "outputs": [
        {
          "output_type": "stream",
          "name": "stdout",
          "text": [
            "Username: CricInformer\n",
            "Text: Avesh Khan said, \"The helmet incident was too much by me. I realised later that I shouldn't have done that. It just happened in the heat of the moment\" \n",
            "\n",
            "#Cricket #CricketNews #CricketTwitter #IPL #RCB #RCBvsLSG #AveshKhan #ViratKohli https://t.co/pO6bR1RRVQ\n",
            "Created at: 2023-06-19 04:19:28+00:00\n",
            "\n",
            "Username: Yashwan68236058\n",
            "Text: RT @IPL: Did anyone say Test specialist? Take a bow - @amlahash #IPL #KXIPvMI @lionsdenkxip https://t.co/b1741fUVck\n",
            "Created at: 2023-06-19 04:19:20+00:00\n",
            "\n",
            "Username: eswardhfp\n",
            "Text: RT @ItzThanesh: Suresh Raina :\n",
            "\n",
            "\"Ruturaj Gaikwad is very similar with MS Dhoni type. He is very calm and composed.\"\n",
            "\n",
            "#WhistlePodu #IPL #CSK…\n",
            "Created at: 2023-06-19 04:18:13+00:00\n",
            "\n",
            "Username: InvestingDevil\n",
            "Text: The new stop loss of #IPL is 221.\n",
            "Created at: 2023-06-19 04:17:03+00:00\n",
            "\n",
            "Username: lakshmanbhavan7\n",
            "Text: RT @ItzThanesh: Suresh Raina :\n",
            "\n",
            "\"Ruturaj Gaikwad is very similar with MS Dhoni type. He is very calm and composed.\"\n",
            "\n",
            "#WhistlePodu #IPL #CSK…\n",
            "Created at: 2023-06-19 04:15:51+00:00\n",
            "\n"
          ]
        }
      ]
    }
  ]
}